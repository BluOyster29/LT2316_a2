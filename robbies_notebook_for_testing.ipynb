{
 "cells": [
  {
   "cell_type": "code",
   "execution_count": 4,
   "metadata": {},
   "outputs": [],
   "source": [
    "import pandas as pd\n",
    "from pandas import read_csv\n"
   ]
  },
  {
   "cell_type": "code",
   "execution_count": 5,
   "metadata": {},
   "outputs": [],
   "source": [
    "def read_csv(folder):\n",
    "    #needs args\n",
    "    train_df = pd.read_csv(folder + 'split/train.csv')\n",
    "    val_df = pd.read_csv(folder + 'split/validation.csv')\n",
    "    test_df = pd.read_csv(folder + 'split/test.csv')\n",
    "    return train_df, val_df, test_df "
   ]
  },
  {
   "cell_type": "code",
   "execution_count": 112,
   "metadata": {},
   "outputs": [],
   "source": []
  },
  {
   "cell_type": "code",
   "execution_count": 133,
   "metadata": {},
   "outputs": [],
   "source": [
    "\n",
    "train_df, val_df, test_df = read_csv('data/')"
   ]
  },
  {
   "cell_type": "code",
   "execution_count": 134,
   "metadata": {},
   "outputs": [],
   "source": [
    "from nltk.corpus import stopwords"
   ]
  },
  {
   "cell_type": "code",
   "execution_count": 137,
   "metadata": {},
   "outputs": [],
   "source": [
    "def fetchvocab(trainfile):\n",
    "    df = trainfile\n",
    "    \n",
    "    stop_words = set(stopwords.words('english'))\n",
    "    tokenize = lambda x: word_tokenize(x)\n",
    "\n",
    "    print('Removing stopwords')\n",
    "    for colname in ['sent1', 'sent2']:\n",
    "        df[colname] = df[colname].str.lower().str.split() #t his could be tokenized in a better way of course :)\n",
    "        df[colname] = df[colname].apply(lambda x: [item for item in x if item not in stop_words])\n",
    "    print('Getting sentences and vocab')\n",
    "    vocab = set()\n",
    "    sents = []\n",
    "    for idx, row in df.iterrows():\n",
    "        sent1 = row['sent1']\n",
    "        vocab.update(sent1)\n",
    "        sent2 = row['sent2']\n",
    "        vocab.update(sent2)\n",
    "        label = row['label']\n",
    "        sents.append([sent1, sent2, label])\n",
    "    return vocab\n",
    "\n",
    "def encode_train_data(df, char2int):\n",
    "    stop_words = set(stopwords.words('english'))\n",
    "    for colname in ['sent1', 'sent2']:\n",
    "        df[colname] = df[colname].apply(lambda x: [char2int[i] for i in x])\n",
    "                "
   ]
  },
  {
   "cell_type": "code",
   "execution_count": 139,
   "metadata": {},
   "outputs": [
    {
     "name": "stdout",
     "output_type": "stream",
     "text": [
      "Removing stopwords\n",
      "Getting sentences and vocab\n"
     ]
    }
   ],
   "source": [
    "vocab = fetchvocab(train_df)"
   ]
  },
  {
   "cell_type": "code",
   "execution_count": 140,
   "metadata": {},
   "outputs": [],
   "source": [
    "int2char = dict(enumerate(vocab))\n",
    "char2int = {char : num for num, char in char2int.items()}"
   ]
  },
  {
   "cell_type": "code",
   "execution_count": 152,
   "metadata": {},
   "outputs": [
    {
     "ename": "NameError",
     "evalue": "name 'encode_train_data' is not defined",
     "output_type": "error",
     "traceback": [
      "\u001b[0;31m---------------------------------------------------------------------------\u001b[0m",
      "\u001b[0;31mNameError\u001b[0m                                 Traceback (most recent call last)",
      "\u001b[0;32m<ipython-input-152-0b4de612d7c7>\u001b[0m in \u001b[0;36m<module>\u001b[0;34m()\u001b[0m\n\u001b[0;32m----> 1\u001b[0;31m \u001b[0mencoded\u001b[0m \u001b[0;34m=\u001b[0m \u001b[0mencode_train_data\u001b[0m\u001b[0;34m(\u001b[0m\u001b[0mtrain_df\u001b[0m\u001b[0;34m,\u001b[0m \u001b[0mchar2int\u001b[0m\u001b[0;34m)\u001b[0m\u001b[0;34m\u001b[0m\u001b[0;34m\u001b[0m\u001b[0m\n\u001b[0m",
      "\u001b[0;31mNameError\u001b[0m: name 'encode_train_data' is not defined"
     ]
    }
   ],
   "source": [
    "encoded = encode_train_data(train_df, char2int)"
   ]
  },
  {
   "cell_type": "code",
   "execution_count": 146,
   "metadata": {},
   "outputs": [],
   "source": [
    "def zipping_data(df):\n",
    "    X_train = []\n",
    "    y_train = []\n",
    "    for idx, row in df.iterrows():\n",
    "        sent_1 = row['sent1']\n",
    "        sent_2 = row['sent2']\n",
    "        X_train.append((sent_1,sent_2))\n",
    "        y_train.append(row['label'])\n",
    "        \n",
    "    return X_train, y_train\n",
    "       \n",
    "        "
   ]
  },
  {
   "cell_type": "code",
   "execution_count": 147,
   "metadata": {},
   "outputs": [],
   "source": [
    "X_train, Y_train = zipping_data(train_df)"
   ]
  },
  {
   "cell_type": "code",
   "execution_count": 170,
   "metadata": {},
   "outputs": [],
   "source": [
    "from torch.utils.data import Dataset, DataLoader"
   ]
  },
  {
   "cell_type": "code",
   "execution_count": 188,
   "metadata": {},
   "outputs": [],
   "source": [
    "class DebatesSet(Dataset):\n",
    "    def __init__(self,x,y):\n",
    "        self.x = x\n",
    "        self.y = y\n",
    "        \n",
    "    def __getitem__(self, index):\n",
    "        return (self.x[index], self.y[index])\n",
    "        \n",
    "    def __len__(self):\n",
    "        return len(self.x)"
   ]
  },
  {
   "cell_type": "code",
   "execution_count": 189,
   "metadata": {},
   "outputs": [],
   "source": [
    "train_data = DebatesSet(X_train, Y_train)"
   ]
  },
  {
   "cell_type": "code",
   "execution_count": 190,
   "metadata": {},
   "outputs": [
    {
     "data": {
      "text/plain": [
       "<__main__.DebatesSet at 0x17db05ed0>"
      ]
     },
     "execution_count": 190,
     "metadata": {},
     "output_type": "execute_result"
    }
   ],
   "source": [
    "train_data"
   ]
  },
  {
   "cell_type": "code",
   "execution_count": 191,
   "metadata": {},
   "outputs": [],
   "source": [
    "train_loader = DataLoader(dataset=train_data, batch_size=30, shuffle=True)"
   ]
  },
  {
   "cell_type": "code",
   "execution_count": 192,
   "metadata": {},
   "outputs": [
    {
     "data": {
      "text/plain": [
       "[[[tensor([ 41551,  38200,   2878,  94799, 131080,  44380,   2878,  21942, 145144,\n",
       "            25575, 109946,  61685,  28630,  53416,  29534, 138450,  24412,    836,\n",
       "            79032,  91592,  58988, 129238,  66743,  97453,  39467,  93904, 125720,\n",
       "           146790,  47300,  46750])],\n",
       "  [tensor([128269, 114350,  53062, 104595,  29534, 106076,  49208,  49183,  99294,\n",
       "            47976, 115147,  54362,   4468,  35582,   9134, 137877,  25377, 133540,\n",
       "            99252,  31761,  51418,  40710,  44380,  43026,  74138,  88520,  21942,\n",
       "            93087,  24854,  43474])]],\n",
       " tensor([0, 0, 1, 0, 0, 0, 1, 0, 0, 0, 1, 1, 1, 0, 0, 0, 1, 1, 0, 0, 1, 1, 0, 1,\n",
       "         1, 0, 1, 1, 1, 0])]"
      ]
     },
     "execution_count": 192,
     "metadata": {},
     "output_type": "execute_result"
    }
   ],
   "source": [
    "next(iter(train_loader))"
   ]
  },
  {
   "cell_type": "code",
   "execution_count": null,
   "metadata": {},
   "outputs": [],
   "source": []
  }
 ],
 "metadata": {
  "kernelspec": {
   "display_name": "Python 3",
   "language": "python",
   "name": "python3"
  },
  "language_info": {
   "codemirror_mode": {
    "name": "ipython",
    "version": 3
   },
   "file_extension": ".py",
   "mimetype": "text/x-python",
   "name": "python",
   "nbconvert_exporter": "python",
   "pygments_lexer": "ipython3",
   "version": "3.7.4"
  }
 },
 "nbformat": 4,
 "nbformat_minor": 2
}
